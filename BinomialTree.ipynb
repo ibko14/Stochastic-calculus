{
 "cells": [
  {
   "cell_type": "code",
   "execution_count": 41,
   "metadata": {},
   "outputs": [],
   "source": [
    "import numpy as np\n",
    "sig=0.2\n",
    "T=0.5\n",
    "r=0.09\n",
    "S=60\n",
    "K=62\n",
    "#u=np.exp(sig*np.sqrt(T))\n",
    "u=1.1\n",
    "d=0.9\n",
    "n=3\n"
   ]
  },
  {
   "cell_type": "markdown",
   "metadata": {},
   "source": [
    "On fait l'arbre"
   ]
  },
  {
   "cell_type": "code",
   "execution_count": 42,
   "metadata": {},
   "outputs": [
    {
     "name": "stdout",
     "output_type": "stream",
     "text": [
      "[60, [66.0, 54.0], [72.6, 59.4, 48.6]]\n"
     ]
    }
   ],
   "source": [
    "\n",
    "L=[S,[S*u,S*d]]\n",
    "\n",
    "for i in range(2,n):\n",
    "    #u=np.exp(sig*np.sqrt(T/i))\n",
    "    #d=1/u\n",
    "    L.append([])\n",
    "    for j in range(0,len(L[i-1])):\n",
    "        \n",
    "        L[i].append(round(L[i-1][j]*d,2))\n",
    "        L[i].append(round(L[i-1][j]*u,2))\n",
    "        L[i]=list(set(L[i]))\n",
    "        L[i].sort(reverse=True)\n",
    "\n",
    "\n",
    "print(L)\n"
   ]
  },
  {
   "cell_type": "markdown",
   "metadata": {},
   "source": [
    "On compute les derniers C0"
   ]
  },
  {
   "cell_type": "code",
   "execution_count": 51,
   "metadata": {},
   "outputs": [
    {
     "name": "stdout",
     "output_type": "stream",
     "text": [
      "0\n",
      "1\n",
      "[[0.8030303030303029, -43.76146788990822, 9.238532110091775], [0.0, 0.0, 0.0]]\n",
      "[9.238532110091775, 0.0]\n"
     ]
    }
   ],
   "source": [
    "D_B=[]\n",
    "C=[]\n",
    "n=len(L)-1\n",
    "nn=len(L[n-1])\n",
    "for j in range(0,len(L[n-1])):\n",
    "    print(j)\n",
    "    num=max(L[n][j]-K,0)-max(L[n][j+1]-K,0)\n",
    "    den=L[n][j]-L[n][j+1]\n",
    "    delta=num/den\n",
    "    num=u*max(L[n][j+1]-K,0)-d*max(L[n][j]-K,0)\n",
    "    den=(u-d)\n",
    "    beta=1/(1+r)*num/den\n",
    "    D_B.append([delta,beta,delta*L[n-1][j]+beta])\n",
    "    C.append(delta*L[n-1][j]+beta)\n",
    "\n",
    "    \n",
    "print(D_B)\n",
    "print(C)\n"
   ]
  },
  {
   "cell_type": "markdown",
   "metadata": {},
   "source": [
    "On compute l'ensemble des C0 jusqu'à revenir au dernier"
   ]
  },
  {
   "cell_type": "code",
   "execution_count": 52,
   "metadata": {},
   "outputs": [
    {
     "name": "stdout",
     "output_type": "stream",
     "text": [
      "la valeur de i est 1\n",
      "la valeur de j est 0\n",
      "[[8.051931655584589], [9.238532110091775, 0.0]]\n"
     ]
    }
   ],
   "source": [
    "N=len(L)-1\n",
    "C_ = [[] for _ in range(N)]\n",
    "C_[N-1]=C\n",
    "for i in range(len(L)-2,0,-1):\n",
    "    print(\"la valeur de i est \"+str(i))\n",
    "    for j in range(0,len(L[i])-1):\n",
    "        print(\"la valeur de j est \"+str(j))\n",
    "        num=C_[i][j]-C_[i][j+1]\n",
    "        den=L[i][j]-L[i][j+1]\n",
    "        delta=num/den\n",
    "        num=u*C_[i][j+1]-d*C_[i][j]\n",
    "        den=u-d\n",
    "        beta=1/(1+r)*num/den\n",
    "        C_[i-1].append(delta*S+beta)                                                  \n",
    "print(C_)"
   ]
  }
 ],
 "metadata": {
  "kernelspec": {
   "display_name": "Python 3",
   "language": "python",
   "name": "python3"
  },
  "language_info": {
   "codemirror_mode": {
    "name": "ipython",
    "version": 3
   },
   "file_extension": ".py",
   "mimetype": "text/x-python",
   "name": "python",
   "nbconvert_exporter": "python",
   "pygments_lexer": "ipython3",
   "version": "3.12.4"
  }
 },
 "nbformat": 4,
 "nbformat_minor": 2
}
